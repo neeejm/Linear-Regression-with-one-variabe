{
 "cells": [
  {
   "cell_type": "markdown",
   "id": "77eaeec3",
   "metadata": {},
   "source": [
    "# Linear Regression with one variable\n",
    "\n",
    "<h4>Dataset:</h4>\n",
    "        Data holds 2 columns (brain weight and body weigth)\n",
    "<h4>Feature:</h4>\n",
    "        Body weigth\n",
    "<h4>Target:</h4>\n",
    "        Brain weigth\n",
    "\n",
    "<font color=\"grey\">Dataset source: https://people.sc.fsu.edu/~jburkardt/datasets/regression/x01.txt</font>"
   ]
  },
  {
   "cell_type": "markdown",
   "id": "68930699",
   "metadata": {},
   "source": [
    "<h5>To do:</h5>\n",
    "<ol>\n",
    "    <li>Importing the dataset</li>\n",
    "    <li>Select the features variable 'X' and the target variable 'y'</li>\n",
    "    <li>Create the hypothesis function</li>\n",
    "    <li>Find the hyperparametrs</li>\n",
    "    <ol type=\"1\">\n",
    "        <li>Create the cost function</li>\n",
    "        <li>Create the batch gradient descent function</li>\n",
    "    </ol>\n",
    "    <li>Test the model</li>\n",
    "    <li>Normal Equation</li>\n",
    "</ol>"
   ]
  },
  {
   "cell_type": "code",
   "execution_count": 31,
   "id": "14d9824c",
   "metadata": {},
   "outputs": [],
   "source": [
    "# main modules\n",
    "import pandas as pd\n",
    "import numpy as np\n",
    "import matplotlib.pyplot as plt"
   ]
  },
  {
   "cell_type": "markdown",
   "id": "59c39b33",
   "metadata": {},
   "source": [
    "#### 1. Importing dataset"
   ]
  },
  {
   "cell_type": "code",
   "execution_count": 32,
   "id": "cfa56e4e",
   "metadata": {},
   "outputs": [
    {
     "name": "stdout",
     "output_type": "stream",
     "text": [
      "    brain weight  body weight\n",
      "0          3.385         44.5\n",
      "1          0.480         15.5\n",
      "2          1.350          8.1\n",
      "3        465.000        423.0\n",
      "4         36.330        119.5\n",
      "..           ...          ...\n",
      "57       160.000        169.0\n",
      "58         0.900          2.6\n",
      "59         1.620         11.4\n",
      "60         0.104          2.5\n",
      "61         4.235         50.4\n",
      "\n",
      "[62 rows x 2 columns]\n"
     ]
    }
   ],
   "source": [
    "# importing the dataset\n",
    "dataset = pd.read_csv(\"dataset.csv\")\n",
    "print(dataset)"
   ]
  },
  {
   "cell_type": "code",
   "execution_count": 33,
   "id": "adae0840",
   "metadata": {},
   "outputs": [
    {
     "name": "stdout",
     "output_type": "stream",
     "text": [
      ">>> Info: \n",
      "<class 'pandas.core.frame.DataFrame'>\n",
      "RangeIndex: 62 entries, 0 to 61\n",
      "Data columns (total 2 columns):\n",
      " #   Column        Non-Null Count  Dtype  \n",
      "---  ------        --------------  -----  \n",
      " 0   brain weight  62 non-null     float64\n",
      " 1   body weight   62 non-null     float64\n",
      "dtypes: float64(2)\n",
      "memory usage: 1.1 KB\n",
      "\n",
      ">>> Stats: \n",
      "       brain weight  body weight\n",
      "count     62.000000    62.000000\n",
      "mean     198.789984   283.134194\n",
      "std      899.158011   930.278942\n",
      "min        0.005000     0.140000\n",
      "25%        0.600000     4.250000\n",
      "50%        3.342500    17.250000\n",
      "75%       48.202500   166.000000\n",
      "max     6654.000000  5712.000000\n"
     ]
    }
   ],
   "source": [
    "# printing information about data\n",
    "print(\">>> Info: \")\n",
    "dataset.info()\n",
    "\n",
    "# describing dataset\n",
    "print(\"\\n>>> Stats: \")\n",
    "print(dataset.describe())\n",
    "\n",
    "dataset = dataset.drop(dataset[dataset[\"body weight\"] > 4000].index)"
   ]
  },
  {
   "cell_type": "markdown",
   "id": "bbe37885",
   "metadata": {},
   "source": [
    "#### 2. Select the features variable 'X' and the target variable 'y'"
   ]
  },
  {
   "cell_type": "code",
   "execution_count": 34,
   "id": "d09af0b8",
   "metadata": {},
   "outputs": [
    {
     "name": "stdout",
     "output_type": "stream",
     "text": [
      ">>> Fearture:\n",
      "[ 44.5  15.5   8.1 423.  119.5 115.   98.2   5.5  58.    6.4]\n",
      "\n",
      ">>> Target:\n",
      "[  3.385   0.48    1.35  465.     36.33 ]\n"
     ]
    }
   ],
   "source": [
    "# selecting feature and target variable\n",
    "X = np.array(dataset[\"body weight\"])\n",
    "y = np.array(dataset[\"brain weight\"])\n",
    "\n",
    "print(\">>> Fearture:\")\n",
    "print(X[:10])\n",
    "print(\"\\n>>> Target:\")\n",
    "print(y[:5])"
   ]
  },
  {
   "cell_type": "code",
   "execution_count": 35,
   "id": "439e7f7e",
   "metadata": {},
   "outputs": [
    {
     "data": {
      "image/png": "[encoded data removed]",
      "text/plain": [
       "<Figure size 504x504 with 1 Axes>"
      ]
     },
     "metadata": {},
     "output_type": "display_data"
    }
   ],
   "source": [
    "# plotting data\n",
    "plt.style.use(\"seaborn\")\n",
    "data_frag, data_ax = plt.subplots(figsize=(7,7))\n",
    "data_ax.set(\n",
    "    title=\"Dataset representation\",\n",
    "    xlabel=\"body weigth (X)\",\n",
    "    ylabel=\"brain weigth (y)\")\n",
    "fX = (X - X.min()) / (X.max() - X.min())\n",
    "fy = (y - y.min()) / (y.max() - y.min())\n",
    "data_ax.scatter(fX, fy);\n",
    "fX = np.array([np.ones(len(fX)), fX]).T"
   ]
  },
  {
   "cell_type": "markdown",
   "id": "28921ec5",
   "metadata": {},
   "source": [
    "#### 3. Create the hypothesis function\n",
    "Hypothesis formula:\n",
    "$$\n",
    "  h_\\theta(x) = \\theta_0 + \\theta_1x\n",
    "$$"
   ]
  },
  {
   "cell_type": "code",
   "execution_count": 36,
   "id": "45dc76b1",
   "metadata": {},
   "outputs": [],
   "source": [
    "def h(X: np.ndarray, O: np.ndarray = np.array([0, 1])) -> np.ndarray:\n",
    "    \"\"\"\n",
    "    Predict an array of numeric value based on the data given.\n",
    "    Parameters\n",
    "    ----------\n",
    "    X: np.ndarray(shape((m,2))\n",
    "        Matrix of data\n",
    "    O: np.ndarray(shape=m)\n",
    "        Vector the hyperparameters\n",
    "    Returns\n",
    "    -------\n",
    "    np.ndarray\n",
    "        Vector of the predicted values\n",
    "    \"\"\"\n",
    "    return X.dot(O)\n",
    "# h(X_train[:10])"
   ]
  },
  {
   "cell_type": "code",
   "execution_count": 37,
   "id": "a147cda8",
   "metadata": {},
   "outputs": [
    {
     "data": {
      "text/plain": [
       "array([0.03360963, 0.0116376 , 0.00603094, 0.32038246, 0.09043383,\n",
       "       0.08702438, 0.07429576, 0.00406104, 0.04383798, 0.00474293])"
      ]
     },
     "execution_count": 37,
     "metadata": {},
     "output_type": "execute_result"
    }
   ],
   "source": [
    "# test h\n",
    "h(fX[:10])"
   ]
  },
  {
   "cell_type": "markdown",
   "id": "d4d6c8c7",
   "metadata": {},
   "source": [
    "#### 4.A. Create the cost function\n",
    "Cost function formula: \n",
    "$$\n",
    "    J(\\theta_0,\\theta_1) = \\frac1{2m} \\sum_{i=1}^m( h_\\theta(x^{(i)}) - y^{(i)})^2\n",
    "$$\n",
    "<center>Where: m = size of training set</center>"
   ]
  },
  {
   "cell_type": "code",
   "execution_count": 38,
   "id": "ef777060",
   "metadata": {},
   "outputs": [],
   "source": [
    "def cost_func(X: np.ndarray, y: np.ndarray, O: np.ndarray = np.array([0, 1])) -> float:\n",
    "    \"\"\"\n",
    "    Calculate the cost function\n",
    "    Parameters\n",
    "    ----------\n",
    "    X: np.ndarray(shape=(m,2))\n",
    "        Matrix of data\n",
    "    y: np.ndarray(shape=m)\n",
    "        Vector of data\n",
    "    O: np.ndarray(shape=m)\n",
    "        Vector the hyperparameters\n",
    "    h: callable\n",
    "        The hypothesis\n",
    "    Returns\n",
    "    -------\n",
    "    float\n",
    "        Average of distances between the X and y\n",
    "    \"\"\"\n",
    "    return 0.5 * np.sum(\n",
    "        np.power(\n",
    "            np.subtract(h(X, O), y), 2\n",
    "        )\n",
    "    ).mean()"
   ]
  },
  {
   "cell_type": "code",
   "execution_count": 39,
   "id": "de1c3420",
   "metadata": {},
   "outputs": [
    {
     "data": {
      "text/plain": [
       "0.00037046830703630674"
      ]
     },
     "execution_count": 39,
     "metadata": {},
     "output_type": "execute_result"
    }
   ],
   "source": [
    "# test cost_func\n",
    "cost_func(fX[:1], fy[:1])"
   ]
  },
  {
   "cell_type": "markdown",
   "id": "f391afc5",
   "metadata": {},
   "source": [
    "#### 4.B. Create the batch gradient descent function\n",
    "Gradient descent formula:<br>\n",
    "$\\;\\;\\;\\;\\;\\;\\;\\;\\;\\;\\;\\;\\;\\;\\;\\;\\;\\;\\;\\;\\;\\;\\;\\;\\;\\;\\;\\;\\;\\;\\;\\;\\;\\;\\;\\;\\;\\;\\;\\;$\n",
    "{\n",
    "$$ \\theta_0 := \\theta_0 - \\alpha \\frac1m \\sum_{i=1}^m( h_\\theta(x^{(i)}) - y^{(i)})$$\n",
    "$$ \\theta_1 := \\theta_1 - \\alpha \\frac1m \\sum_{i=1}^m( h_\\theta(x^{(i)}) - y^{(i)}) x^{(i)}$$\n",
    "$\\;\\;\\;\\;\\;\\;\\;\\;\\;\\;\\;\\;\\;\\;\\;\\;\\;\\;\\;\\;\\;\\;\\;\\;\\;\\;\\;\\;\\;\\;\\;\\;\\;\\;\\;\\;\\;\\;\\;\\;$\n",
    "} repeat until convergence <br>\n",
    "<center>Where: m = size of training set; $\\alpha$ = learning rate; '$:=$' = assignment</center>"
   ]
  },
  {
   "cell_type": "code",
   "execution_count": 40,
   "id": "6dd683fd",
   "metadata": {},
   "outputs": [],
   "source": [
    "def batch_grad_des(X: np.ndarray,\n",
    "                   y: np.ndarray,\n",
    "                   O: np.ndarray = np.array([0, 1]),\n",
    "                   alpha: int = 1,\n",
    "                   nloop: int = 1000) -> (np.ndarray, np.ndarray):\n",
    "    \"\"\"\n",
    "    Find the min of the cost function\n",
    "    Parameters\n",
    "    ----------\n",
    "    X: np.ndarray(shape=(m,2))\n",
    "        Matrix of data\n",
    "    y: np.ndarray(shape=m)\n",
    "        Vector of data\n",
    "    O: np.ndarray(shape=m)\n",
    "        Vector the hyperparameters\n",
    "    alpha: int\n",
    "        Learning rate (default = 1) \n",
    "    nloop: int\n",
    "        Max number of loops that gradient descent will perform (default = 1000) \n",
    "    Returns\n",
    "    -------\n",
    "    np.ndarray\n",
    "        Vector of hyperparameters\n",
    "    np.ndarray\n",
    "        Hyperparameters history\n",
    "    \"\"\"\n",
    "    hO = O\n",
    "    def step_size():\n",
    "        return np.array([\n",
    "            alpha * np.sum(\n",
    "               np.subtract(h(X, O), y) * X.T[i]\n",
    "            ).mean()\n",
    "            for i in range(len(X[0]))\n",
    "        ])\n",
    "    for _ in range(nloop):\n",
    "        O = np.subtract(O, step_size())\n",
    "        hO  = np.append(hO, O.copy())\n",
    "        \n",
    "    return O, hO"
   ]
  },
  {
   "cell_type": "code",
   "execution_count": 41,
   "id": "e57051aa",
   "metadata": {},
   "outputs": [
    {
     "data": {
      "text/plain": [
       "array([0.02065533, 0.85155913])"
      ]
     },
     "execution_count": 41,
     "metadata": {},
     "output_type": "execute_result"
    }
   ],
   "source": [
    "# running gradient descent\n",
    "n = 250\n",
    "hyperparam, hO = batch_grad_des(fX, fy , alpha=0.01, nloop=n)\n",
    "hyperparam"
   ]
  },
  {
   "cell_type": "code",
   "execution_count": 42,
   "id": "823962e8",
   "metadata": {},
   "outputs": [
    {
     "data": {
      "text/plain": [
       "array([0.88925844, 0.88742743, 0.88657824, 0.88590166, 0.88527087,\n",
       "       0.88466542, 0.88408151, 0.88351792, 0.8829739 , 0.88244873])"
      ]
     },
     "execution_count": 42,
     "metadata": {},
     "output_type": "execute_result"
    }
   ],
   "source": [
    "# calculating cost function for each hyperparam\n",
    "hO = hO.reshape((int(len(hO)/2), 2))\n",
    "jO = np.array([cost_func(fX, fy, O=o) for o in hO])\n",
    "jO[:10]"
   ]
  },
  {
   "cell_type": "code",
   "execution_count": 43,
   "id": "c65aa41d",
   "metadata": {},
   "outputs": [
    {
     "data": {
      "image/png": "[encoded data removed]",
      "text/plain": [
       "<Figure size 504x504 with 1 Axes>"
      ]
     },
     "metadata": {},
     "output_type": "display_data"
    }
   ],
   "source": [
    "data_frag, data_ax = plt.subplots(figsize=(7,7))\n",
    "data_ax.set(\n",
    "    title=\"Cost func j(O) with steps plot\",\n",
    "    xlabel=\"steps (X)\",\n",
    "    ylabel=\"J(O) (y)\")\n",
    "data_ax.plot(np.arange(0, n + 1), jO);"
   ]
  },
  {
   "cell_type": "markdown",
   "id": "77e4477c",
   "metadata": {},
   "source": [
    "#### 5. Test model"
   ]
  },
  {
   "cell_type": "code",
   "execution_count": 44,
   "id": "f0aa6e92",
   "metadata": {},
   "outputs": [
    {
     "data": {
      "image/png": "[encoded data removed]",
      "text/plain": [
       "<Figure size 504x504 with 1 Axes>"
      ]
     },
     "metadata": {},
     "output_type": "display_data"
    }
   ],
   "source": [
    "# regression plot\n",
    "data_fig, data_ax = plt.subplots(figsize=(7,7))\n",
    "data_ax.set(\n",
    "    title=\"Dataset representation\",\n",
    "    xlabel=\"body weigth (X)\",\n",
    "    ylabel=\"brain weigth (y)\")\n",
    "data_ax.scatter(fX.T[1], fy)\n",
    "data_ax.plot(hyperparam, 'r')\n",
    "data_fig.tight_layout()"
   ]
  },
  {
   "cell_type": "code",
   "execution_count": 45,
   "id": "9d466e51",
   "metadata": {},
   "outputs": [
    {
     "data": {
      "text/html": [
       "<div>\n",
       "<style scoped>\n",
       "    .dataframe tbody tr th:only-of-type {\n",
       "        vertical-align: middle;\n",
       "    }\n",
       "\n",
       "    .dataframe tbody tr th {\n",
       "        vertical-align: top;\n",
       "    }\n",
       "\n",
       "    .dataframe thead th {\n",
       "        text-align: right;\n",
       "    }\n",
       "</style>\n",
       "<table border=\"1\" class=\"dataframe\">\n",
       "  <thead>\n",
       "    <tr style=\"text-align: right;\">\n",
       "      <th></th>\n",
       "      <th>measured y</th>\n",
       "      <th>target y</th>\n",
       "    </tr>\n",
       "  </thead>\n",
       "  <tbody>\n",
       "    <tr>\n",
       "      <th>0</th>\n",
       "      <td>37.915037</td>\n",
       "      <td>3.385</td>\n",
       "    </tr>\n",
       "    <tr>\n",
       "      <th>1</th>\n",
       "      <td>13.219822</td>\n",
       "      <td>0.480</td>\n",
       "    </tr>\n",
       "    <tr>\n",
       "      <th>2</th>\n",
       "      <td>6.918284</td>\n",
       "      <td>1.350</td>\n",
       "    </tr>\n",
       "    <tr>\n",
       "      <th>3</th>\n",
       "      <td>360.230166</td>\n",
       "      <td>465.000</td>\n",
       "    </tr>\n",
       "    <tr>\n",
       "      <th>4</th>\n",
       "      <td>101.781971</td>\n",
       "      <td>36.330</td>\n",
       "    </tr>\n",
       "    <tr>\n",
       "      <th>5</th>\n",
       "      <td>97.949955</td>\n",
       "      <td>27.660</td>\n",
       "    </tr>\n",
       "    <tr>\n",
       "      <th>6</th>\n",
       "      <td>83.643762</td>\n",
       "      <td>14.830</td>\n",
       "    </tr>\n",
       "    <tr>\n",
       "      <th>7</th>\n",
       "      <td>4.704231</td>\n",
       "      <td>1.040</td>\n",
       "    </tr>\n",
       "    <tr>\n",
       "      <th>8</th>\n",
       "      <td>49.411085</td>\n",
       "      <td>4.190</td>\n",
       "    </tr>\n",
       "    <tr>\n",
       "      <th>9</th>\n",
       "      <td>5.470634</td>\n",
       "      <td>0.425</td>\n",
       "    </tr>\n",
       "    <tr>\n",
       "      <th>10</th>\n",
       "      <td>3.426892</td>\n",
       "      <td>0.101</td>\n",
       "    </tr>\n",
       "    <tr>\n",
       "      <th>11</th>\n",
       "      <td>4.874542</td>\n",
       "      <td>0.920</td>\n",
       "    </tr>\n",
       "    <tr>\n",
       "      <th>12</th>\n",
       "      <td>5.640946</td>\n",
       "      <td>1.000</td>\n",
       "    </tr>\n",
       "    <tr>\n",
       "      <th>13</th>\n",
       "      <td>0.139874</td>\n",
       "      <td>0.005</td>\n",
       "    </tr>\n",
       "    <tr>\n",
       "      <th>14</th>\n",
       "      <td>0.872214</td>\n",
       "      <td>0.060</td>\n",
       "    </tr>\n",
       "    <tr>\n",
       "      <th>15</th>\n",
       "      <td>9.217494</td>\n",
       "      <td>3.500</td>\n",
       "    </tr>\n",
       "    <tr>\n",
       "      <th>16</th>\n",
       "      <td>10.494833</td>\n",
       "      <td>2.000</td>\n",
       "    </tr>\n",
       "    <tr>\n",
       "      <th>17</th>\n",
       "      <td>5.385478</td>\n",
       "      <td>1.700</td>\n",
       "    </tr>\n",
       "    <tr>\n",
       "      <th>18</th>\n",
       "      <td>0.276123</td>\n",
       "      <td>0.023</td>\n",
       "    </tr>\n",
       "    <tr>\n",
       "      <th>19</th>\n",
       "      <td>356.823930</td>\n",
       "      <td>187.100</td>\n",
       "    </tr>\n",
       "    <tr>\n",
       "      <th>20</th>\n",
       "      <td>557.791884</td>\n",
       "      <td>521.000</td>\n",
       "    </tr>\n",
       "    <tr>\n",
       "      <th>21</th>\n",
       "      <td>3.001112</td>\n",
       "      <td>0.785</td>\n",
       "    </tr>\n",
       "    <tr>\n",
       "      <th>22</th>\n",
       "      <td>97.949955</td>\n",
       "      <td>10.000</td>\n",
       "    </tr>\n",
       "    <tr>\n",
       "      <th>23</th>\n",
       "      <td>21.820569</td>\n",
       "      <td>3.300</td>\n",
       "    </tr>\n",
       "    <tr>\n",
       "      <th>24</th>\n",
       "      <td>4.278451</td>\n",
       "      <td>0.200</td>\n",
       "    </tr>\n",
       "    <tr>\n",
       "      <th>25</th>\n",
       "      <td>14.922940</td>\n",
       "      <td>1.410</td>\n",
       "    </tr>\n",
       "    <tr>\n",
       "      <th>26</th>\n",
       "      <td>579.080862</td>\n",
       "      <td>529.000</td>\n",
       "    </tr>\n",
       "    <tr>\n",
       "      <th>27</th>\n",
       "      <td>345.753661</td>\n",
       "      <td>207.000</td>\n",
       "    </tr>\n",
       "    <tr>\n",
       "      <th>28</th>\n",
       "      <td>276.777372</td>\n",
       "      <td>85.000</td>\n",
       "    </tr>\n",
       "    <tr>\n",
       "      <th>29</th>\n",
       "      <td>10.494833</td>\n",
       "      <td>0.750</td>\n",
       "    </tr>\n",
       "    <tr>\n",
       "      <th>30</th>\n",
       "      <td>1124.078704</td>\n",
       "      <td>62.000</td>\n",
       "    </tr>\n",
       "    <tr>\n",
       "      <th>31</th>\n",
       "      <td>3.341736</td>\n",
       "      <td>3.500</td>\n",
       "    </tr>\n",
       "    <tr>\n",
       "      <th>32</th>\n",
       "      <td>152.449739</td>\n",
       "      <td>6.800</td>\n",
       "    </tr>\n",
       "    <tr>\n",
       "      <th>33</th>\n",
       "      <td>47.707966</td>\n",
       "      <td>35.000</td>\n",
       "    </tr>\n",
       "    <tr>\n",
       "      <th>34</th>\n",
       "      <td>14.497160</td>\n",
       "      <td>4.050</td>\n",
       "    </tr>\n",
       "    <tr>\n",
       "      <th>35</th>\n",
       "      <td>0.872214</td>\n",
       "      <td>0.120</td>\n",
       "    </tr>\n",
       "    <tr>\n",
       "      <th>36</th>\n",
       "      <td>0.361279</td>\n",
       "      <td>0.023</td>\n",
       "    </tr>\n",
       "    <tr>\n",
       "      <th>37</th>\n",
       "      <td>0.233545</td>\n",
       "      <td>0.010</td>\n",
       "    </tr>\n",
       "    <tr>\n",
       "      <th>38</th>\n",
       "      <td>10.665144</td>\n",
       "      <td>1.400</td>\n",
       "    </tr>\n",
       "    <tr>\n",
       "      <th>39</th>\n",
       "      <td>417.284628</td>\n",
       "      <td>250.000</td>\n",
       "    </tr>\n",
       "    <tr>\n",
       "      <th>40</th>\n",
       "      <td>10.324521</td>\n",
       "      <td>2.500</td>\n",
       "    </tr>\n",
       "    <tr>\n",
       "      <th>41</th>\n",
       "      <td>149.043503</td>\n",
       "      <td>55.500</td>\n",
       "    </tr>\n",
       "    <tr>\n",
       "      <th>42</th>\n",
       "      <td>133.715438</td>\n",
       "      <td>100.000</td>\n",
       "    </tr>\n",
       "    <tr>\n",
       "      <th>43</th>\n",
       "      <td>374.706671</td>\n",
       "      <td>52.160</td>\n",
       "    </tr>\n",
       "    <tr>\n",
       "      <th>44</th>\n",
       "      <td>152.875519</td>\n",
       "      <td>10.550</td>\n",
       "    </tr>\n",
       "    <tr>\n",
       "      <th>45</th>\n",
       "      <td>2.064397</td>\n",
       "      <td>0.550</td>\n",
       "    </tr>\n",
       "    <tr>\n",
       "      <th>46</th>\n",
       "      <td>68.996945</td>\n",
       "      <td>60.000</td>\n",
       "    </tr>\n",
       "    <tr>\n",
       "      <th>47</th>\n",
       "      <td>17.903397</td>\n",
       "      <td>3.600</td>\n",
       "    </tr>\n",
       "    <tr>\n",
       "      <th>48</th>\n",
       "      <td>33.401773</td>\n",
       "      <td>4.288</td>\n",
       "    </tr>\n",
       "    <tr>\n",
       "      <th>49</th>\n",
       "      <td>1.638618</td>\n",
       "      <td>0.280</td>\n",
       "    </tr>\n",
       "    <tr>\n",
       "      <th>50</th>\n",
       "      <td>1.042526</td>\n",
       "      <td>0.075</td>\n",
       "    </tr>\n",
       "    <tr>\n",
       "      <th>51</th>\n",
       "      <td>2.575333</td>\n",
       "      <td>0.122</td>\n",
       "    </tr>\n",
       "    <tr>\n",
       "      <th>52</th>\n",
       "      <td>0.301670</td>\n",
       "      <td>0.048</td>\n",
       "    </tr>\n",
       "    <tr>\n",
       "      <th>53</th>\n",
       "      <td>153.301298</td>\n",
       "      <td>192.000</td>\n",
       "    </tr>\n",
       "    <tr>\n",
       "      <th>54</th>\n",
       "      <td>21.309634</td>\n",
       "      <td>3.000</td>\n",
       "    </tr>\n",
       "    <tr>\n",
       "      <th>55</th>\n",
       "      <td>143.934148</td>\n",
       "      <td>160.000</td>\n",
       "    </tr>\n",
       "    <tr>\n",
       "      <th>56</th>\n",
       "      <td>2.234709</td>\n",
       "      <td>0.900</td>\n",
       "    </tr>\n",
       "    <tr>\n",
       "      <th>57</th>\n",
       "      <td>9.728429</td>\n",
       "      <td>1.620</td>\n",
       "    </tr>\n",
       "    <tr>\n",
       "      <th>58</th>\n",
       "      <td>2.149553</td>\n",
       "      <td>0.104</td>\n",
       "    </tr>\n",
       "    <tr>\n",
       "      <th>59</th>\n",
       "      <td>42.939235</td>\n",
       "      <td>4.235</td>\n",
       "    </tr>\n",
       "  </tbody>\n",
       "</table>\n",
       "</div>"
      ],
      "text/plain": [
       "     measured y  target y\n",
       "0     37.915037     3.385\n",
       "1     13.219822     0.480\n",
       "2      6.918284     1.350\n",
       "3    360.230166   465.000\n",
       "4    101.781971    36.330\n",
       "5     97.949955    27.660\n",
       "6     83.643762    14.830\n",
       "7      4.704231     1.040\n",
       "8     49.411085     4.190\n",
       "9      5.470634     0.425\n",
       "10     3.426892     0.101\n",
       "11     4.874542     0.920\n",
       "12     5.640946     1.000\n",
       "13     0.139874     0.005\n",
       "14     0.872214     0.060\n",
       "15     9.217494     3.500\n",
       "16    10.494833     2.000\n",
       "17     5.385478     1.700\n",
       "18     0.276123     0.023\n",
       "19   356.823930   187.100\n",
       "20   557.791884   521.000\n",
       "21     3.001112     0.785\n",
       "22    97.949955    10.000\n",
       "23    21.820569     3.300\n",
       "24     4.278451     0.200\n",
       "25    14.922940     1.410\n",
       "26   579.080862   529.000\n",
       "27   345.753661   207.000\n",
       "28   276.777372    85.000\n",
       "29    10.494833     0.750\n",
       "30  1124.078704    62.000\n",
       "31     3.341736     3.500\n",
       "32   152.449739     6.800\n",
       "33    47.707966    35.000\n",
       "34    14.497160     4.050\n",
       "35     0.872214     0.120\n",
       "36     0.361279     0.023\n",
       "37     0.233545     0.010\n",
       "38    10.665144     1.400\n",
       "39   417.284628   250.000\n",
       "40    10.324521     2.500\n",
       "41   149.043503    55.500\n",
       "42   133.715438   100.000\n",
       "43   374.706671    52.160\n",
       "44   152.875519    10.550\n",
       "45     2.064397     0.550\n",
       "46    68.996945    60.000\n",
       "47    17.903397     3.600\n",
       "48    33.401773     4.288\n",
       "49     1.638618     0.280\n",
       "50     1.042526     0.075\n",
       "51     2.575333     0.122\n",
       "52     0.301670     0.048\n",
       "53   153.301298   192.000\n",
       "54    21.309634     3.000\n",
       "55   143.934148   160.000\n",
       "56     2.234709     0.900\n",
       "57     9.728429     1.620\n",
       "58     2.149553     0.104\n",
       "59    42.939235     4.235"
      ]
     },
     "execution_count": 45,
     "metadata": {},
     "output_type": "execute_result"
    }
   ],
   "source": [
    "tmp_X = np.array([np.ones(len(X)), X]).T\n",
    "result = np.array([[h(tmp_X[i], hyperparam) for i in range(len(y))], y]).T\n",
    "\n",
    "result = pd.DataFrame(data=result, columns=[\"measured y\", \"target y\"])\n",
    "result"
   ]
  },
  {
   "cell_type": "markdown",
   "id": "a0d7149e",
   "metadata": {},
   "source": [
    "#### 6. Nomal equation\n",
    "Normal equation formula:\n",
    "$$\n",
    "  \\theta = (X^TX)^{-1}X^Ty\n",
    "$$"
   ]
  },
  {
   "cell_type": "code",
   "execution_count": 62,
   "id": "2bf74810",
   "metadata": {},
   "outputs": [],
   "source": [
    "def normal_equation(X: np.ndarray, y: np.ndarray) -> np.ndarray:\n",
    "    return np.linalg.inv(X.T.dot(X)).dot(X.T).dot(y)"
   ]
  },
  {
   "cell_type": "code",
   "execution_count": 72,
   "id": "a2bacb0b",
   "metadata": {},
   "outputs": [
    {
     "data": {
      "text/plain": [
       "(array([0.02065533, 0.85155913]), array([0.02082768, 0.84972656]))"
      ]
     },
     "execution_count": 72,
     "metadata": {},
     "output_type": "execute_result"
    }
   ],
   "source": [
    "hyperparam2 = normal_equation(fX, fy)\n",
    "hyperparam, hyperparam2"
   ]
  }
 ],
 "metadata": {
  "kernelspec": {
   "display_name": "Python 3 (ipykernel)",
   "language": "python",
   "name": "python3"
  },
  "language_info": {
   "codemirror_mode": {
    "name": "ipython",
    "version": 3
   },
   "file_extension": ".py",
   "mimetype": "text/x-python",
   "name": "python",
   "nbconvert_exporter": "python",
   "pygments_lexer": "ipython3",
   "version": "3.9.7"
  }
 },
 "nbformat": 4,
 "nbformat_minor": 5
}
